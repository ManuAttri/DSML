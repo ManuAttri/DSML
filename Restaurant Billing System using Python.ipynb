{
 "cells": [
  {
   "cell_type": "markdown",
   "id": "b91aa2ce",
   "metadata": {},
   "source": [
    "### Problem Statement -- Make a restaurant Billing System in which , a new file should be created with a user name for calculating his/her bill"
   ]
  },
  {
   "cell_type": "code",
   "execution_count": 2,
   "id": "2680ce36",
   "metadata": {},
   "outputs": [],
   "source": [
    "# Take user input for choosing the item he want to order\n",
    "# Sum all the price of items that the customer has calculated "
   ]
  },
  {
   "cell_type": "code",
   "execution_count": 3,
   "id": "f176ea94",
   "metadata": {},
   "outputs": [],
   "source": [
    "# To calculate the sum, initialize the variable Total_bill = 0\n",
    "total_bill = 0\n"
   ]
  },
  {
   "cell_type": "code",
   "execution_count": 4,
   "id": "000df794",
   "metadata": {},
   "outputs": [],
   "source": [
    "##Use dictionary for all the items and theri prices in the restaurant \n",
    "\n",
    "## -- > Keys will be the itmes\n",
    "## --> values will be the price for each item"
   ]
  },
  {
   "cell_type": "code",
   "execution_count": 5,
   "id": "440f3fee",
   "metadata": {},
   "outputs": [],
   "source": [
    "menu = {\n",
    "        'Tandoori Momos':180, \n",
    "        'Kurkure Momos':100, \n",
    "        'Malai Momos':140, \n",
    "        'Steam Momos':90, \n",
    "        'Afgani Momos':120,\n",
    "         'Oreo Shake':200, \n",
    "          'Cold Coffee':120, \n",
    "          \"Coca Cola\":40,\n",
    "          'Veg Noodles':120,\n",
    "          'Chilli Potato':150, \n",
    "          'Manchoorian':200, \n",
    "          'French Fries':190, \n",
    "          'Mix Sauce': 170,\n",
    "        'White Sauce': 140,\n",
    "        'Red Sauce': 150\n",
    "        }\n",
    "          \n",
    "        "
   ]
  },
  {
   "cell_type": "code",
   "execution_count": 6,
   "id": "b2a5af60",
   "metadata": {},
   "outputs": [
    {
     "name": "stdout",
     "output_type": "stream",
     "text": [
      "{'Tandoori Momos': 180, 'Kurkure Momos': 100, 'Malai Momos': 140, 'Steam Momos': 90, 'Afgani Momos': 120, 'Oreo Shake': 200, 'Cold Coffee': 120, 'Coca Cola': 40, 'Veg Noodles': 120, 'Chilli Potato': 150, 'Manchoorian': 200, 'French Fries': 190, 'Mix Sauce': 170, 'White Sauce': 140, 'Red Sauce': 150}\n"
     ]
    }
   ],
   "source": [
    "print(menu)"
   ]
  },
  {
   "cell_type": "markdown",
   "id": "774cab73",
   "metadata": {},
   "source": [
    "## Take a list containing all the items"
   ]
  },
  {
   "cell_type": "code",
   "execution_count": 7,
   "id": "384af030",
   "metadata": {},
   "outputs": [],
   "source": [
    "# for user input, take a list containing al the item names\n",
    "items = [i for i in menu.keys()]\n"
   ]
  },
  {
   "cell_type": "code",
   "execution_count": 8,
   "id": "5f3cb8ed",
   "metadata": {},
   "outputs": [
    {
     "data": {
      "text/plain": [
       "['Tandoori Momos',\n",
       " 'Kurkure Momos',\n",
       " 'Malai Momos',\n",
       " 'Steam Momos',\n",
       " 'Afgani Momos',\n",
       " 'Oreo Shake',\n",
       " 'Cold Coffee',\n",
       " 'Coca Cola',\n",
       " 'Veg Noodles',\n",
       " 'Chilli Potato',\n",
       " 'Manchoorian',\n",
       " 'French Fries',\n",
       " 'Mix Sauce',\n",
       " 'White Sauce',\n",
       " 'Red Sauce']"
      ]
     },
     "execution_count": 8,
     "metadata": {},
     "output_type": "execute_result"
    }
   ],
   "source": [
    "items"
   ]
  },
  {
   "cell_type": "markdown",
   "id": "36c1b6e4",
   "metadata": {},
   "source": [
    "## Approach for single item chosen"
   ]
  },
  {
   "cell_type": "code",
   "execution_count": 9,
   "id": "aa9e447b",
   "metadata": {},
   "outputs": [
    {
     "name": "stdout",
     "output_type": "stream",
     "text": [
      "Welcome to 'Falana Restaurant'\n",
      "Tandoori Momos\t\t180\n",
      "Kurkure Momos\t\t100\n",
      "Malai Momos\t\t140\n",
      "Steam Momos\t\t90\n",
      "Afgani Momos\t\t120\n",
      "Oreo Shake\t\t200\n",
      "Cold Coffee\t\t120\n",
      "Coca Cola\t\t40\n",
      "Veg Noodles\t\t120\n",
      "Chilli Potato\t\t150\n",
      "Manchoorian\t\t200\n",
      "French Fries\t\t190\n",
      "Mix Sauce\t\t170\n",
      "White Sauce\t\t140\n",
      "Red Sauce\t\t150\n",
      "Enter your Name:Manu\n",
      "Enter your Order:French Fries\n",
      "Manu - Your Total Bill Is 190\n"
     ]
    }
   ],
   "source": [
    "# print welcome message on the screen\n",
    "print(\"Welcome to 'Falana Restaurant'\")\n",
    "for item, price in list(zip(menu.keys(), menu.values())):\n",
    "        print(item, end= \"\\t\\t\")\n",
    "        print(price)\n",
    "name = input(\"Enter your Name:\")\n",
    "#Taking User Input\n",
    "order = input(\"Enter your Order:\")\n",
    "if order in items:                            # update the bill\n",
    "    total_bill = total_bill+ menu[order]\n",
    "else:\n",
    "    print(\"Please Select the right item\")\n",
    "print(f'{name} - Your Total Bill Is {total_bill}')\n",
    "            "
   ]
  },
  {
   "cell_type": "markdown",
   "id": "1279200c",
   "metadata": {},
   "source": [
    "## Approach for multiple items chosen"
   ]
  },
  {
   "cell_type": "code",
   "execution_count": 17,
   "id": "341f761d",
   "metadata": {},
   "outputs": [
    {
     "name": "stdout",
     "output_type": "stream",
     "text": [
      "Welcome to 'Falana Restaurant'\n",
      "Tandoori Momos\t\t180\n",
      "Kurkure Momos\t\t100\n",
      "Malai Momos\t\t140\n",
      "Steam Momos\t\t90\n",
      "Afgani Momos\t\t120\n",
      "Oreo Shake\t\t200\n",
      "Cold Coffee\t\t120\n",
      "Coca Cola\t\t40\n",
      "Veg Noodles\t\t120\n",
      "Chilli Potato\t\t150\n",
      "Manchoorian\t\t200\n",
      "French Fries\t\t190\n",
      "Mix Sauce\t\t170\n",
      "White Sauce\t\t140\n",
      "Red Sauce\t\t150\n",
      "Enter your Name:Manu\n",
      "\n",
      "\n",
      "Press 'Y to continue or 'N' for exit\n",
      "y\n",
      "Enter your Order:Mix Sauce\n",
      "\n",
      "\n",
      "Press 'Y to continue or 'N' for exit\n",
      "y\n",
      "Enter your Order:French Fries\n",
      "\n",
      "\n",
      "Press 'Y to continue or 'N' for exit\n",
      "n\n",
      "Manu - Your Total Bill Is 360\n"
     ]
    }
   ],
   "source": [
    "total_bill = 0\n",
    "print(\"Welcome to 'Falana Restaurant'\")\n",
    "for item, price in list(zip(menu.keys(), menu.values())):\n",
    "    print(item, end= \"\\t\\t\")\n",
    "    print(price)\n",
    "name = input(\"Enter your Name:\")\n",
    "f = open(name, 'w')\n",
    "f.write(\"Name\\t\")\n",
    "f.write(name)\n",
    "f.write(\"\\n\")\n",
    "f.close()\n",
    "while True:\n",
    "    #Taking User Input\n",
    "    \n",
    "    print(\"\\n\")\n",
    "    f = open(name, 'a')\n",
    "    choice = input(\"Press 'Y to continue or 'N' for exit\\n\")\n",
    "\n",
    "    if choice == 'Y' or choice == 'y':\n",
    "        order = input(\"Enter your Order:\")\n",
    "        f.write(order)\n",
    "        f.write(\"\\t\")\n",
    "        f.write(str(menu[order]))\n",
    "        f.write(\"\\n\")\n",
    "        if order in items:                            # update the bill\n",
    "            total_bill = total_bill + menu[order]\n",
    "        else:\n",
    "            print(\"Please Select the right item\")\n",
    "    elif choice == 'N' or choice == 'n':\n",
    "        break\n",
    "    else:\n",
    "        print(\"Please Make a right Choice : 'Y' or 'N'\")\n",
    "        \n",
    "    \n",
    "f.write(\"total_bill\\t\")\n",
    "f.write(str(total_bill))\n",
    "f.close()       \n",
    "        \n",
    "print(f'{name} - Your Total Bill Is {total_bill}')\n",
    "    "
   ]
  },
  {
   "cell_type": "markdown",
   "id": "63c8afce",
   "metadata": {},
   "source": [
    "## Check whether the file has been created or not"
   ]
  },
  {
   "cell_type": "code",
   "execution_count": 18,
   "id": "220ae416",
   "metadata": {},
   "outputs": [
    {
     "name": "stdout",
     "output_type": "stream",
     "text": [
      "enter the file nameManu\n"
     ]
    }
   ],
   "source": [
    "f = open(input(\"enter the file name\"), 'r')"
   ]
  },
  {
   "cell_type": "code",
   "execution_count": 19,
   "id": "374a6256",
   "metadata": {},
   "outputs": [
    {
     "name": "stdout",
     "output_type": "stream",
     "text": [
      "Name\tManu\n",
      "Mix Sauce\t170\n",
      "French Fries\t190\n",
      "total_bill\t360\n"
     ]
    }
   ],
   "source": [
    "print(f.read())"
   ]
  },
  {
   "cell_type": "code",
   "execution_count": null,
   "id": "26b0542c",
   "metadata": {},
   "outputs": [],
   "source": []
  },
  {
   "cell_type": "code",
   "execution_count": null,
   "id": "eec8cd6d",
   "metadata": {},
   "outputs": [],
   "source": []
  }
 ],
 "metadata": {
  "kernelspec": {
   "display_name": "Python 3 (ipykernel)",
   "language": "python",
   "name": "python3"
  },
  "language_info": {
   "codemirror_mode": {
    "name": "ipython",
    "version": 3
   },
   "file_extension": ".py",
   "mimetype": "text/x-python",
   "name": "python",
   "nbconvert_exporter": "python",
   "pygments_lexer": "ipython3",
   "version": "3.9.7"
  }
 },
 "nbformat": 4,
 "nbformat_minor": 5
}
